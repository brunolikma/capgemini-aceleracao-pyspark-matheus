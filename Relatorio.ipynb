{
 "cells": [
  {
   "cell_type": "code",
   "execution_count": 1,
   "id": "300c597a",
   "metadata": {},
   "outputs": [],
   "source": [
    "import findspark\n",
    "findspark.init()"
   ]
  },
  {
   "cell_type": "code",
   "execution_count": 2,
   "id": "740749cc",
   "metadata": {},
   "outputs": [],
   "source": [
    "# PySpark is the Spark API for Python. In this lab, we use PySpark to initialize the spark context. \n",
    "from pyspark import SparkContext, SparkConf\n",
    "from pyspark.sql import SparkSession\n",
    "from pyspark.sql import functions as F\n",
    "from pyspark.sql.types import StructType, IntegerType, StringType, FloatType\n"
   ]
  },
  {
   "cell_type": "code",
   "execution_count": 3,
   "id": "30e65912",
   "metadata": {},
   "outputs": [],
   "source": [
    "# Creating a spark context class\n",
    "sc = SparkContext()\n",
    "\n",
    "# Creating a spark session\n",
    "spark = SparkSession \\\n",
    "    .builder \\\n",
    "    .appName(\"Python Spark DataFrames basic example\") \\\n",
    "    .config(\"spark.some.config.option\", \"some-value\") \\\n",
    "    .getOrCreate()"
   ]
  },
  {
   "cell_type": "code",
   "execution_count": null,
   "id": "79708131",
   "metadata": {},
   "outputs": [],
   "source": []
  },
  {
   "cell_type": "code",
   "execution_count": 4,
   "id": "053a0604",
   "metadata": {},
   "outputs": [
    {
     "name": "stdout",
     "output_type": "stream",
     "text": [
      "root\n",
      " |-- faa: string (nullable = true)\n",
      " |-- qa_faa: string (nullable = true)\n",
      " |-- qa_name: string (nullable = true)\n",
      " |-- qa_lat: string (nullable = true)\n",
      " |-- qa_lon: string (nullable = true)\n",
      " |-- qa_tz: string (nullable = true)\n",
      " |-- qa_dst: string (nullable = true)\n",
      " |-- qa_alt: string (nullable = true)\n",
      "\n",
      "root\n",
      " |-- tailnum: string (nullable = true)\n",
      " |-- qa_tailnum: string (nullable = true)\n",
      " |-- qa_year: string (nullable = true)\n",
      " |-- qa_type: string (nullable = true)\n",
      " |-- qa_manufacturer: string (nullable = true)\n",
      " |-- qa_model: string (nullable = true)\n",
      " |-- qa_engines: string (nullable = true)\n",
      " |-- qa_seats: string (nullable = true)\n",
      " |-- qa_speed: string (nullable = true)\n",
      " |-- qa_engine: string (nullable = true)\n",
      "\n",
      "root\n",
      " |-- origin: string (nullable = true)\n",
      " |-- dest: string (nullable = true)\n",
      " |-- tailnum: string (nullable = true)\n",
      " |-- qa_year_month_day: string (nullable = true)\n",
      " |-- qa_hour_minute: string (nullable = true)\n",
      " |-- qa_dep_arr: string (nullable = true)\n",
      " |-- qa_dep_arr_delay: string (nullable = true)\n",
      " |-- qa_carrier: string (nullable = true)\n",
      " |-- qa_tailnum: string (nullable = true)\n",
      " |-- qa_flight: string (nullable = true)\n",
      " |-- qa_origin_dest: string (nullable = true)\n",
      " |-- qa_air_time: string (nullable = true)\n",
      " |-- qa_distance: string (nullable = true)\n",
      " |-- qa_distance_airtime: string (nullable = true)\n",
      "\n"
     ]
    }
   ],
   "source": [
    "df_airports_qa = spark.read.parquet(\"output/airports_qa.parquet\")\n",
    "df_airports_qa.printSchema()\n",
    "\n",
    "df_planes_qa = spark.read.parquet('output/planes_qa.parquet')\n",
    "df_planes_qa.printSchema()\n",
    "\n",
    "df_flights_qa = spark.read.parquet('output/flights_qa.parquet')\n",
    "df_flights_qa.printSchema()"
   ]
  },
  {
   "cell_type": "markdown",
   "id": "fecd4cf9",
   "metadata": {},
   "source": [
    "# Perguntas de Qualidade"
   ]
  },
  {
   "cell_type": "markdown",
   "id": "6a2a66f4",
   "metadata": {},
   "source": [
    "## Pergunta 1"
   ]
  },
  {
   "cell_type": "code",
   "execution_count": 5,
   "id": "5618ba10",
   "metadata": {
    "scrolled": true
   },
   "outputs": [
    {
     "name": "stdout",
     "output_type": "stream",
     "text": [
      "root\n",
      " |-- origin: string (nullable = true)\n",
      " |-- dest: string (nullable = true)\n",
      " |-- tailnum: string (nullable = true)\n",
      " |-- qa_year_month_day: string (nullable = true)\n",
      " |-- qa_hour_minute: string (nullable = true)\n",
      " |-- qa_dep_arr: string (nullable = true)\n",
      " |-- qa_dep_arr_delay: string (nullable = true)\n",
      " |-- qa_carrier: string (nullable = true)\n",
      " |-- qa_tailnum: string (nullable = true)\n",
      " |-- qa_flight: string (nullable = true)\n",
      " |-- qa_origin_dest: string (nullable = true)\n",
      " |-- qa_air_time: string (nullable = true)\n",
      " |-- qa_distance: string (nullable = true)\n",
      " |-- qa_distance_airtime: string (nullable = true)\n",
      " |-- faa: string (nullable = true)\n",
      " |-- qa_faa: string (nullable = true)\n",
      " |-- qa_name: string (nullable = true)\n",
      " |-- qa_lat: string (nullable = true)\n",
      " |-- qa_lon: string (nullable = true)\n",
      " |-- qa_tz: string (nullable = true)\n",
      " |-- qa_dst: string (nullable = true)\n",
      " |-- qa_alt: string (nullable = true)\n",
      " |-- faa_dest: string (nullable = true)\n",
      " |-- qa_faa_dest: string (nullable = true)\n",
      " |-- qa_name_dest: string (nullable = true)\n",
      " |-- qa_lat_dest: string (nullable = true)\n",
      " |-- qa_lon_dest: string (nullable = true)\n",
      " |-- qa_tz_dest: string (nullable = true)\n",
      " |-- qa_dst_dest: string (nullable = true)\n",
      " |-- qa_alt_dest: string (nullable = true)\n",
      " |-- tailnum: string (nullable = true)\n",
      " |-- qa_tailnum_plane: string (nullable = true)\n",
      " |-- qa_year: string (nullable = true)\n",
      " |-- qa_type: string (nullable = true)\n",
      " |-- qa_manufacturer: string (nullable = true)\n",
      " |-- qa_model: string (nullable = true)\n",
      " |-- qa_engines: string (nullable = true)\n",
      " |-- qa_seats: string (nullable = true)\n",
      " |-- qa_speed: string (nullable = true)\n",
      " |-- qa_engine: string (nullable = true)\n",
      "\n"
     ]
    }
   ],
   "source": [
    "df = df_flights_qa.join(df_airports_qa,\n",
    "                        df_flights_qa.origin == df_airports_qa.faa,\n",
    "                       \"left\")\n",
    "df_airports_qa_1 = (df_airports_qa\n",
    "                    .withColumnRenamed(\"faa\",\"faa_dest\")\n",
    "                    .withColumnRenamed(\"qa_faa\",\"qa_faa_dest\")\n",
    "                   .withColumnRenamed(\"qa_name\",\"qa_name_dest\")\n",
    "                   .withColumnRenamed(\"qa_lat\",\"qa_lat_dest\")\n",
    "                   .withColumnRenamed(\"qa_lon\",\"qa_lon_dest\")\n",
    "                   .withColumnRenamed(\"qa_tz\", \"qa_tz_dest\")\n",
    "                   .withColumnRenamed(\"qa_dst\", \"qa_dst_dest\")\n",
    "                   .withColumnRenamed(\"qa_alt\",\"qa_alt_dest\")) \n",
    "\n",
    "df = df.join(df_airports_qa_1,\n",
    "            df.dest == df_airports_qa_1.faa_dest,\n",
    "            \"left\")\n",
    "df_planes_qa = df_planes_qa.withColumnRenamed(\"qa_tailnum\",\"qa_tailnum_plane\")\n",
    "df = df.join(df_planes_qa,\n",
    "            df.tailnum == df_planes_qa.tailnum,\n",
    "            \"left\")\n",
    "\n",
    "df.printSchema()"
   ]
  },
  {
   "cell_type": "markdown",
   "id": "bce39ec7",
   "metadata": {},
   "source": [
    "## Pergunta 2"
   ]
  },
  {
   "cell_type": "code",
   "execution_count": 6,
   "id": "85775849",
   "metadata": {},
   "outputs": [],
   "source": [
    "df = df.drop('origin','dest','faa','faa_dest','tailnum')\n",
    "colunas = tuple(df.columns)\n",
    "\n",
    "data = [(coluna,) for coluna in colunas] \n",
    "\n",
    "df_results = spark.createDataFrame(data, ['nome_coluna'])"
   ]
  },
  {
   "cell_type": "code",
   "execution_count": 7,
   "id": "dafbce21",
   "metadata": {},
   "outputs": [
    {
     "name": "stdout",
     "output_type": "stream",
     "text": [
      "Wall time: 7.9 s\n"
     ]
    }
   ],
   "source": [
    "%%time\n",
    "indicadores = {'M' : [], 'F' : [], 'S': [], 'T' : [], 'I' : [], 'C' : []}\n",
    "\n",
    "for indicador in indicadores:\n",
    "    result = (df.select([F.count(F.when(F.col(coluna).startswith(indicador), coluna)) for coluna in df.columns]).first())\n",
    "    indicadores[indicador] = [item for item in result]"
   ]
  },
  {
   "cell_type": "code",
   "execution_count": 8,
   "id": "337fb9d2",
   "metadata": {
    "scrolled": true
   },
   "outputs": [
    {
     "name": "stdout",
     "output_type": "stream",
     "text": [
      "+-------------------+----+----+---+----+---+---+\n",
      "|        nome_coluna|   M|   F|  S|   T|  I|  C|\n",
      "+-------------------+----+----+---+----+---+---+\n",
      "|        qa_air_time|  75|   0|  0|   0|  0|  0|\n",
      "|             qa_alt|   0|   0|  0|   0|  0|  0|\n",
      "|        qa_alt_dest|   0|   0|  0|   0|  0|  0|\n",
      "|         qa_carrier|   0|   0|  0|   0|  0|  0|\n",
      "|         qa_dep_arr|  55| 241|  0|   0|  0|  0|\n",
      "|   qa_dep_arr_delay|  75|   0|  0|   0|  0|  0|\n",
      "|        qa_distance|   0|   0|  0|   0|  0|  0|\n",
      "|qa_distance_airtime|  75|   0|  0|9925|  0|  0|\n",
      "|             qa_dst|   0|   0|  0|   0|  0|  0|\n",
      "|        qa_dst_dest|   0|   0|  0|   0|  0|  0|\n",
      "|          qa_engine|   0|   0|  0|   0|  0|  7|\n",
      "|         qa_engines|   0|   0|  0|   0|  0|  0|\n",
      "|             qa_faa|   0|   0|  0|   0|  0|  0|\n",
      "|        qa_faa_dest|   0|   0|  0|   0|  0|  0|\n",
      "|          qa_flight|   0|6158|  0|   0|  0|  0|\n",
      "|     qa_hour_minute|  48|   0|  0|   0|  1|  0|\n",
      "|             qa_lat|   0|   0|  0|   0|  0|  0|\n",
      "|        qa_lat_dest|   0|   0|  0|   0|  0|  0|\n",
      "|             qa_lon|   0|   0|  0|   0|  0|  0|\n",
      "|        qa_lon_dest|   0|   0|  0|   0|  0|  0|\n",
      "|    qa_manufacturer|   0|   0|  0|   0|  0|  0|\n",
      "|           qa_model|   0|   9|  0|   0|  0|  0|\n",
      "|            qa_name|   0|   0|  0|   0|  0|  0|\n",
      "|       qa_name_dest|   0|   0|  0|   0|  0|  0|\n",
      "|     qa_origin_dest|   0|   0|  0|   0|  0|  0|\n",
      "|           qa_seats|   0|   0|  0|   0|  0|  0|\n",
      "|           qa_speed|9443|   0|  0|   0|  0|  0|\n",
      "|         qa_tailnum|   0| 989| 14|   0|  0|  0|\n",
      "|   qa_tailnum_plane|   0| 552|  0|   0|  0|  0|\n",
      "|            qa_type|   0|   0|  0|   0|  0|  0|\n",
      "|              qa_tz|   0|   0|  0|   0|  0|  0|\n",
      "|         qa_tz_dest|   0|   0|  0|   0|  0|  0|\n",
      "|            qa_year|  94|   0|  0|   0|  8|  0|\n",
      "|  qa_year_month_day|   0|   0|  0|   0|  0|  0|\n",
      "+-------------------+----+----+---+----+---+---+\n",
      "\n",
      "Wall time: 1min 11s\n"
     ]
    }
   ],
   "source": [
    "%%time\n",
    "for indicador in indicadores:\n",
    "    new_column = [[value,col] for value, col in zip(indicadores[indicador], df.columns)]\n",
    "    new_df = spark.createDataFrame(new_column, [indicador,'nome'])\n",
    "    df_results = df_results.join(new_df, df_results.nome_coluna == new_df.nome, \"left\")\n",
    "    df_results = df_results.drop('nome')\n",
    "    \n",
    "df_results.show(50)"
   ]
  },
  {
   "cell_type": "code",
   "execution_count": 9,
   "id": "e2af1a82",
   "metadata": {},
   "outputs": [],
   "source": [
    "df_results.write.mode('overwrite').parquet('output/results.parquet')\n",
    "df_results = spark.read.parquet('output/results.parquet')"
   ]
  },
  {
   "cell_type": "markdown",
   "id": "844eab41",
   "metadata": {},
   "source": [
    "## Pergunta 3"
   ]
  },
  {
   "cell_type": "code",
   "execution_count": 10,
   "id": "ef76b3e0",
   "metadata": {},
   "outputs": [
    {
     "name": "stdout",
     "output_type": "stream",
     "text": [
      "+-----------+----+---+---+---+---+---+\n",
      "|nome_coluna|   M|  F|  S|  T|  I|  C|\n",
      "+-----------+----+---+---+---+---+---+\n",
      "|   qa_speed|9443|  0|  0|  0|  0|  0|\n",
      "+-----------+----+---+---+---+---+---+\n",
      "only showing top 1 row\n",
      "\n"
     ]
    }
   ],
   "source": [
    "df_results.orderBy(F.col('M').desc()).show(1)"
   ]
  },
  {
   "cell_type": "markdown",
   "id": "439429dc",
   "metadata": {},
   "source": [
    "## Pergunta 4"
   ]
  },
  {
   "cell_type": "code",
   "execution_count": 11,
   "id": "bdccf4fb",
   "metadata": {},
   "outputs": [
    {
     "name": "stdout",
     "output_type": "stream",
     "text": [
      "+-----------+---+----+---+---+---+---+\n",
      "|nome_coluna|  M|   F|  S|  T|  I|  C|\n",
      "+-----------+---+----+---+---+---+---+\n",
      "|  qa_flight|  0|6158|  0|  0|  0|  0|\n",
      "+-----------+---+----+---+---+---+---+\n",
      "only showing top 1 row\n",
      "\n",
      "Wall time: 83.8 ms\n"
     ]
    }
   ],
   "source": [
    "%%time\n",
    "df_results.orderBy(F.col('F').desc()).show(1)"
   ]
  },
  {
   "cell_type": "markdown",
   "id": "1f7f8b09",
   "metadata": {},
   "source": [
    "## Pergunta 5"
   ]
  },
  {
   "cell_type": "code",
   "execution_count": 12,
   "id": "9276a2ee",
   "metadata": {
    "scrolled": true
   },
   "outputs": [
    {
     "name": "stdout",
     "output_type": "stream",
     "text": [
      "+-----------+---+---+---+---+---+---+\n",
      "|nome_coluna|  M|  F|  S|  T|  I|  C|\n",
      "+-----------+---+---+---+---+---+---+\n",
      "|    qa_year| 94|  0|  0|  0|  8|  0|\n",
      "+-----------+---+---+---+---+---+---+\n",
      "only showing top 1 row\n",
      "\n"
     ]
    }
   ],
   "source": [
    "df_results.orderBy(F.col('I').desc()).show(1)"
   ]
  }
 ],
 "metadata": {
  "kernelspec": {
   "display_name": "Python 3 (ipykernel)",
   "language": "python",
   "name": "python3"
  },
  "language_info": {
   "codemirror_mode": {
    "name": "ipython",
    "version": 3
   },
   "file_extension": ".py",
   "mimetype": "text/x-python",
   "name": "python",
   "nbconvert_exporter": "python",
   "pygments_lexer": "ipython3",
   "version": "3.9.7"
  }
 },
 "nbformat": 4,
 "nbformat_minor": 5
}
