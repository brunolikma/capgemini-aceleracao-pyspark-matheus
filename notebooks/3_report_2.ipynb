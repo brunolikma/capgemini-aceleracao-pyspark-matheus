{
 "cells": [
  {
   "cell_type": "code",
   "execution_count": 1,
   "id": "2179e197",
   "metadata": {},
   "outputs": [],
   "source": [
    "import findspark\n",
    "findspark.init()"
   ]
  },
  {
   "cell_type": "code",
   "execution_count": 2,
   "id": "cd510cc9",
   "metadata": {},
   "outputs": [],
   "source": [
    "# PySpark is the Spark API for Python. In this lab, we use PySpark to initialize the spark context. \n",
    "from pyspark import SparkContext, SparkConf\n",
    "from pyspark.sql import SparkSession\n",
    "from pyspark.sql import functions as F\n",
    "from pyspark.sql.types import StructType, IntegerType, StringType, FloatType\n"
   ]
  },
  {
   "cell_type": "code",
   "execution_count": 3,
   "id": "7ce95c1e",
   "metadata": {},
   "outputs": [],
   "source": [
    "# Creating a spark context class\n",
    "sc = SparkContext()\n",
    "\n",
    "# Creating a spark session\n",
    "spark = SparkSession \\\n",
    "    .builder \\\n",
    "    .appName(\"Python Spark DataFrames basic example\") \\\n",
    "    .config(\"spark.some.config.option\", \"some-value\") \\\n",
    "    .getOrCreate()"
   ]
  },
  {
   "cell_type": "code",
   "execution_count": 4,
   "id": "2a2b1ec3",
   "metadata": {
    "scrolled": true
   },
   "outputs": [
    {
     "name": "stdout",
     "output_type": "stream",
     "text": [
      "root\n",
      " |-- faa: string (nullable = true)\n",
      " |-- name: string (nullable = true)\n",
      " |-- lat: float (nullable = true)\n",
      " |-- lon: float (nullable = true)\n",
      " |-- alt: integer (nullable = true)\n",
      " |-- tz: float (nullable = true)\n",
      " |-- dst: string (nullable = true)\n",
      " |-- region: string (nullable = true)\n",
      " |-- type: string (nullable = true)\n",
      " |-- military: boolean (nullable = true)\n",
      " |-- administration: string (nullable = true)\n",
      "\n",
      "root\n",
      " |-- tailnum: string (nullable = true)\n",
      " |-- year: integer (nullable = true)\n",
      " |-- type: string (nullable = true)\n",
      " |-- manufacturer: string (nullable = true)\n",
      " |-- model: string (nullable = true)\n",
      " |-- engines: integer (nullable = true)\n",
      " |-- seats: integer (nullable = true)\n",
      " |-- speed: long (nullable = true)\n",
      " |-- engine: string (nullable = true)\n",
      " |-- tailchar: string (nullable = true)\n",
      " |-- age: integer (nullable = true)\n",
      " |-- engine_type: string (nullable = true)\n",
      "\n",
      "root\n",
      " |-- dep_time: string (nullable = true)\n",
      " |-- dep_delay: integer (nullable = true)\n",
      " |-- arr_time: string (nullable = true)\n",
      " |-- arr_delay: integer (nullable = true)\n",
      " |-- carrier: string (nullable = true)\n",
      " |-- tailnum: string (nullable = true)\n",
      " |-- flight: string (nullable = true)\n",
      " |-- origin: string (nullable = true)\n",
      " |-- dest: string (nullable = true)\n",
      " |-- air_time: integer (nullable = true)\n",
      " |-- distance: integer (nullable = true)\n",
      " |-- dep_datetime: timestamp (nullable = true)\n",
      " |-- air_time_projected: integer (nullable = true)\n",
      " |-- air_time_expected: integer (nullable = true)\n",
      " |-- haul_duration: string (nullable = true)\n",
      " |-- dep_season: string (nullable = true)\n",
      " |-- dep_delay_category: string (nullable = true)\n",
      "\n",
      "root\n",
      " |-- faa: string (nullable = true)\n",
      " |-- name: string (nullable = true)\n",
      " |-- lat: float (nullable = true)\n",
      " |-- lon: float (nullable = true)\n",
      " |-- alt: integer (nullable = true)\n",
      " |-- tz: float (nullable = true)\n",
      " |-- dst: string (nullable = true)\n",
      " |-- region: string (nullable = true)\n",
      " |-- type: string (nullable = true)\n",
      " |-- military: boolean (nullable = true)\n",
      " |-- administration: string (nullable = true)\n",
      "\n",
      "root\n",
      " |-- tailnum: string (nullable = true)\n",
      " |-- year: integer (nullable = true)\n",
      " |-- type: string (nullable = true)\n",
      " |-- manufacturer: string (nullable = true)\n",
      " |-- model: string (nullable = true)\n",
      " |-- engines: integer (nullable = true)\n",
      " |-- seats: integer (nullable = true)\n",
      " |-- speed: integer (nullable = true)\n",
      " |-- engine: string (nullable = true)\n",
      " |-- tailchar: string (nullable = true)\n",
      " |-- age: integer (nullable = true)\n",
      " |-- engine_type: string (nullable = true)\n",
      "\n",
      "root\n",
      " |-- dep_time: string (nullable = true)\n",
      " |-- arr_time: string (nullable = true)\n",
      " |-- dep_delay: integer (nullable = true)\n",
      " |-- arr_delay: integer (nullable = true)\n",
      " |-- carrier: string (nullable = true)\n",
      " |-- tailnum: string (nullable = true)\n",
      " |-- flight: string (nullable = true)\n",
      " |-- origin: string (nullable = true)\n",
      " |-- dest: string (nullable = true)\n",
      " |-- air_time: integer (nullable = true)\n",
      " |-- distance: integer (nullable = true)\n",
      " |-- dep_datetime: timestamp (nullable = true)\n",
      " |-- air_time_projected: integer (nullable = true)\n",
      " |-- air_time_expected: integer (nullable = true)\n",
      " |-- haul_duration: string (nullable = true)\n",
      " |-- dep_season: string (nullable = true)\n",
      " |-- dep_delay_category: string (nullable = true)\n",
      "\n"
     ]
    }
   ],
   "source": [
    "df_airports_proc = spark.read.parquet(\"transformation_proc/airports_proc.parquet\")\n",
    "df_airports_proc.printSchema()\n",
    "\n",
    "df_planes_proc = spark.read.parquet('transformation_proc/planes_proc.parquet')\n",
    "df_planes_proc.printSchema()\n",
    "\n",
    "df_flights_proc = spark.read.parquet('transformation_proc/flights_proc.parquet')\n",
    "df_flights_proc.printSchema()"
   ]
  },
  {
   "cell_type": "markdown",
   "id": "27c57090",
   "metadata": {},
   "source": [
    "## Pergunta 1"
   ]
  },
  {
   "cell_type": "code",
   "execution_count": 5,
   "id": "5d6344d4",
   "metadata": {
    "scrolled": true
   },
   "outputs": [
    {
     "name": "stdout",
     "output_type": "stream",
     "text": [
      "root\n",
      " |-- dep_time_flights: string (nullable = true)\n",
      " |-- arr_time_flights: string (nullable = true)\n",
      " |-- dep_delay_flights: integer (nullable = true)\n",
      " |-- arr_delay_flights: integer (nullable = true)\n",
      " |-- carrier_flights: string (nullable = true)\n",
      " |-- tailnum_flights: string (nullable = true)\n",
      " |-- flight_flights: string (nullable = true)\n",
      " |-- origin_flights: string (nullable = true)\n",
      " |-- dest_flights: string (nullable = true)\n",
      " |-- air_time_flights: integer (nullable = true)\n",
      " |-- distance_flights: integer (nullable = true)\n",
      " |-- dep_datetime_flights: timestamp (nullable = true)\n",
      " |-- air_time_projected_flights: integer (nullable = true)\n",
      " |-- air_time_expected_flights: integer (nullable = true)\n",
      " |-- haul_duration_flights: string (nullable = true)\n",
      " |-- dep_season_flights: string (nullable = true)\n",
      " |-- dep_delay_category_flights: string (nullable = true)\n",
      " |-- faa_airports_origin: string (nullable = true)\n",
      " |-- name_airports_origin: string (nullable = true)\n",
      " |-- lat_airports_origin: float (nullable = true)\n",
      " |-- lon_airports_origin: float (nullable = true)\n",
      " |-- alt_airports_origin: integer (nullable = true)\n",
      " |-- tz_airports_origin: float (nullable = true)\n",
      " |-- dst_airports_origin: string (nullable = true)\n",
      " |-- region_airports_origin: string (nullable = true)\n",
      " |-- type_airports_origin: string (nullable = true)\n",
      " |-- military_airports_origin: boolean (nullable = true)\n",
      " |-- administration_airports_origin: string (nullable = true)\n",
      " |-- faa_airports_dest: string (nullable = true)\n",
      " |-- name_airports_dest: string (nullable = true)\n",
      " |-- lat_airports_dest: float (nullable = true)\n",
      " |-- lon_airports_dest: float (nullable = true)\n",
      " |-- alt_airports_dest: integer (nullable = true)\n",
      " |-- tz_airports_dest: float (nullable = true)\n",
      " |-- dst_airports_dest: string (nullable = true)\n",
      " |-- region_airports_dest: string (nullable = true)\n",
      " |-- type_airports_dest: string (nullable = true)\n",
      " |-- military_airports_dest: boolean (nullable = true)\n",
      " |-- administration_airports_dest: string (nullable = true)\n",
      " |-- tailnum_planes: string (nullable = true)\n",
      " |-- year_planes: integer (nullable = true)\n",
      " |-- type_planes: string (nullable = true)\n",
      " |-- manufacturer_planes: string (nullable = true)\n",
      " |-- model_planes: string (nullable = true)\n",
      " |-- engines_planes: integer (nullable = true)\n",
      " |-- seats_planes: integer (nullable = true)\n",
      " |-- speed_planes: integer (nullable = true)\n",
      " |-- engine_planes: string (nullable = true)\n",
      " |-- tailchar_planes: string (nullable = true)\n",
      " |-- age_planes: integer (nullable = true)\n",
      " |-- engine_type_planes: string (nullable = true)\n",
      "\n",
      "root\n",
      " |-- dep_time_flights: string (nullable = true)\n",
      " |-- dep_delay_flights: integer (nullable = true)\n",
      " |-- arr_time_flights: string (nullable = true)\n",
      " |-- arr_delay_flights: integer (nullable = true)\n",
      " |-- carrier_flights: string (nullable = true)\n",
      " |-- tailnum_flights: string (nullable = true)\n",
      " |-- flight_flights: string (nullable = true)\n",
      " |-- origin_flights: string (nullable = true)\n",
      " |-- dest_flights: string (nullable = true)\n",
      " |-- air_time_flights: integer (nullable = true)\n",
      " |-- distance_flights: integer (nullable = true)\n",
      " |-- dep_datetime_flights: timestamp (nullable = true)\n",
      " |-- air_time_projected_flights: integer (nullable = true)\n",
      " |-- air_time_expected_flights: integer (nullable = true)\n",
      " |-- haul_duration_flights: string (nullable = true)\n",
      " |-- dep_season_flights: string (nullable = true)\n",
      " |-- dep_delay_category_flights: string (nullable = true)\n",
      " |-- faa_airports_origin: string (nullable = true)\n",
      " |-- name_airports_origin: string (nullable = true)\n",
      " |-- lat_airports_origin: float (nullable = true)\n",
      " |-- lon_airports_origin: float (nullable = true)\n",
      " |-- alt_airports_origin: integer (nullable = true)\n",
      " |-- tz_airports_origin: float (nullable = true)\n",
      " |-- dst_airports_origin: string (nullable = true)\n",
      " |-- region_airports_origin: string (nullable = true)\n",
      " |-- type_airports_origin: string (nullable = true)\n",
      " |-- military_airports_origin: boolean (nullable = true)\n",
      " |-- administration_airports_origin: string (nullable = true)\n",
      " |-- faa_airports_dest: string (nullable = true)\n",
      " |-- name_airports_dest: string (nullable = true)\n",
      " |-- lat_airports_dest: float (nullable = true)\n",
      " |-- lon_airports_dest: float (nullable = true)\n",
      " |-- alt_airports_dest: integer (nullable = true)\n",
      " |-- tz_airports_dest: float (nullable = true)\n",
      " |-- dst_airports_dest: string (nullable = true)\n",
      " |-- region_airports_dest: string (nullable = true)\n",
      " |-- type_airports_dest: string (nullable = true)\n",
      " |-- military_airports_dest: boolean (nullable = true)\n",
      " |-- administration_airports_dest: string (nullable = true)\n",
      " |-- tailnum_planes: string (nullable = true)\n",
      " |-- year_planes: integer (nullable = true)\n",
      " |-- type_planes: string (nullable = true)\n",
      " |-- manufacturer_planes: string (nullable = true)\n",
      " |-- model_planes: string (nullable = true)\n",
      " |-- engines_planes: integer (nullable = true)\n",
      " |-- seats_planes: integer (nullable = true)\n",
      " |-- speed_planes: long (nullable = true)\n",
      " |-- engine_planes: string (nullable = true)\n",
      " |-- tailchar_planes: string (nullable = true)\n",
      " |-- age_planes: integer (nullable = true)\n",
      " |-- engine_type_planes: string (nullable = true)\n",
      "\n"
     ]
    }
   ],
   "source": [
    "df_airports_origin_proc = df_airports_proc.select([F.col(c).alias(c+\"_airports_origin\") for c in df_airports_proc.columns])\n",
    "df_airports_dest_proc = df_airports_proc.select([F.col(c).alias(c+\"_airports_dest\") for c in df_airports_proc.columns])\n",
    "df_planes_proc = df_planes_proc.select([F.col(c).alias(c+\"_planes\") for c in df_planes_proc.columns])\n",
    "df_flights_proc = df_flights_proc.select([F.col(c).alias(c+\"_flights\") for c in df_flights_proc.columns])\n",
    "\n",
    "\n",
    "df_proc = df_flights_proc.join(df_airports_origin_proc, \n",
    "                          df_airports_origin_proc.faa_airports_origin == df_flights_proc.origin_flights,\n",
    "                         \"left\")\n",
    "\n",
    "df_proc = df_proc.join(df_airports_dest_proc,\n",
    "                      df_airports_dest_proc.faa_airports_dest == df_proc.dest_flights,\n",
    "                      \"left\")\n",
    "\n",
    "df_proc = df_proc.join(df_planes_proc,\n",
    "                      df_planes_proc.tailnum_planes == df_proc.tailnum_flights,\n",
    "                      \"left\")\n",
    "\n",
    "df_proc.printSchema()\n"
   ]
  },
  {
   "cell_type": "markdown",
   "id": "73db5c7f",
   "metadata": {},
   "source": [
    "Checando tamanho de linhas e colunas"
   ]
  },
  {
   "cell_type": "code",
   "execution_count": 161,
   "id": "19db997b",
   "metadata": {},
   "outputs": [
    {
     "name": "stdout",
     "output_type": "stream",
     "text": [
      "10000\n",
      "54\n"
     ]
    }
   ],
   "source": [
    "print(df_proc.count())\n",
    "\n",
    "print(len(df_proc.columns))\n"
   ]
  },
  {
   "cell_type": "markdown",
   "id": "bcfd0f3d",
   "metadata": {},
   "source": [
    "## Pergunta 2 "
   ]
  },
  {
   "cell_type": "code",
   "execution_count": 133,
   "id": "487136ee",
   "metadata": {
    "scrolled": false
   },
   "outputs": [
    {
     "name": "stdout",
     "output_type": "stream",
     "text": [
      "+--------------------+-----+\n",
      "|region_airports_dest|count|\n",
      "+--------------------+-----+\n",
      "|              ALASKA|    9|\n",
      "|       MAINLAND-EAST|   24|\n",
      "|       MAINLAND-WEST|   36|\n",
      "+--------------------+-----+\n",
      "\n"
     ]
    }
   ],
   "source": [
    "df_airports_region_dest_proc = df_proc.select('faa_airports_dest','region_airports_dest')\n",
    "df_airports_region_origin_proc = df_proc.select('faa_airports_origin','region_airports_origin')\n",
    "\n",
    "df_count_airports_region_proc = df_airports_region_dest_proc.union(df_airports_region_origin_proc)\n",
    "df_count_airports_region_proc = df_count_airports_region_proc.drop_duplicates()\n",
    "df_count_airports_region_proc.groupBy('region_airports_dest').count().show()"
   ]
  },
  {
   "cell_type": "markdown",
   "id": "49505dd6",
   "metadata": {},
   "source": [
    "### Pergunta 3"
   ]
  },
  {
   "cell_type": "code",
   "execution_count": 134,
   "id": "8d417f54",
   "metadata": {},
   "outputs": [
    {
     "name": "stdout",
     "output_type": "stream",
     "text": [
      "+---------------+--------+-------------------+-----------------+\n",
      "|tailnum_flights|alt_diff|alt_airports_origin|alt_airports_dest|\n",
      "+---------------+--------+-------------------+-----------------+\n",
      "|         N224AG|    6169|                433|             6602|\n",
      "+---------------+--------+-------------------+-----------------+\n",
      "only showing top 1 row\n",
      "\n"
     ]
    }
   ],
   "source": [
    "df_proc = df_proc.withColumn('alt_diff', F.abs(F.col('alt_airports_origin') - F.col('alt_airports_dest')))\n",
    "\n",
    "(df_proc\n",
    " .select('tailnum_flights','alt_diff','alt_airports_origin','alt_airports_dest')\n",
    " .orderBy(F.col('alt_diff').desc())\n",
    " .show(1))\n",
    "\n",
    "df_proc = df_proc.drop('alt_diff')"
   ]
  },
  {
   "cell_type": "markdown",
   "id": "88f31648",
   "metadata": {},
   "source": [
    "## Pergunta 4\n"
   ]
  },
  {
   "cell_type": "markdown",
   "id": "b637595f",
   "metadata": {},
   "source": [
    "Atraso médio de chegada e atraso médio de partida"
   ]
  },
  {
   "cell_type": "code",
   "execution_count": 139,
   "id": "ae18ff89",
   "metadata": {},
   "outputs": [
    {
     "name": "stdout",
     "output_type": "stream",
     "text": [
      "+-------------+\n",
      "|arr_delay_avg|\n",
      "+-------------+\n",
      "|         25.0|\n",
      "+-------------+\n",
      "\n",
      "+-------------+\n",
      "|dep_delay_avg|\n",
      "+-------------+\n",
      "|         26.0|\n",
      "+-------------+\n",
      "\n"
     ]
    }
   ],
   "source": [
    "df_avg_delay_dep = (df_proc\n",
    "                   .filter(df_proc.dep_delay_flights > 0 )\n",
    "                   .agg({'dep_delay_flights' : 'avg'}))\n",
    "\n",
    "df_avg_delay_arr = (df_proc\n",
    "                   .filter(df_proc.arr_delay_flights > 0 )\n",
    "                   .agg({'arr_delay_flights' : 'avg'}))\n",
    "\n",
    "\n",
    "df_avg_delay_arr = df_avg_delay_arr.withColumn('avg(arr_delay_flights)', \n",
    "                                               F.round(F.col('avg(arr_delay_flights)')))\n",
    "\n",
    "df_avg_delay_dep = df_avg_delay_dep.withColumn('avg(dep_delay_flights)', \n",
    "                                               F.round(F.col('avg(dep_delay_flights)')))\n",
    "\n",
    "df_avg_delay_arr.select(F.col('avg(arr_delay_flights)').alias('arr_delay_avg')).show()\n",
    "df_avg_delay_dep.select(F.col('avg(dep_delay_flights)').alias('dep_delay_avg')).show()"
   ]
  },
  {
   "cell_type": "markdown",
   "id": "55abcb97",
   "metadata": {},
   "source": [
    "Atraso médio de voo"
   ]
  },
  {
   "cell_type": "code",
   "execution_count": 100,
   "id": "33d5c3b0",
   "metadata": {},
   "outputs": [
    {
     "name": "stdout",
     "output_type": "stream",
     "text": [
      "+----------------+\n",
      "|flight_delay_avg|\n",
      "+----------------+\n",
      "|            38.0|\n",
      "+----------------+\n",
      "\n"
     ]
    }
   ],
   "source": [
    "df_proc = df_proc.withColumn('dep_delay', F.when(F.col('dep_delay_flights') < 0, 0)\n",
    "                            .otherwise(F.col('dep_delay_flights')))\n",
    "\n",
    "df_proc = df_proc.withColumn('arr_delay', F.when(F.col('arr_delay_flights') < 0, 0)\n",
    "                            .otherwise(F.col('arr_delay_flights')))\n",
    "\n",
    "df_proc = df_proc.withColumn('sum_delay',\n",
    "                             F.col('dep_delay') + F.col('arr_delay'))\n",
    "\n",
    "df_avg_delay = df_proc.filter(F.col('sum_delay') > 0).agg({\"sum_delay\" : \"avg\"})\n",
    "df_avg_delay = df_avg_delay.withColumn('avg(sum_delay)', F.round(F.col('avg(sum_delay)')))\n",
    "\n",
    "df_avg_delay.select(F.col('avg(sum_delay)').alias('flight_delay_avg')).show()"
   ]
  },
  {
   "cell_type": "markdown",
   "id": "5a3e92ae",
   "metadata": {},
   "source": [
    "## Pergunta 5\n"
   ]
  },
  {
   "cell_type": "markdown",
   "id": "e2b6d0e7",
   "metadata": {},
   "source": [
    "Média de atraso de chegada para cada região destino e média de atraso de partida para cada região origem"
   ]
  },
  {
   "cell_type": "code",
   "execution_count": 103,
   "id": "67971afb",
   "metadata": {
    "scrolled": false
   },
   "outputs": [
    {
     "name": "stdout",
     "output_type": "stream",
     "text": [
      "+-------------+---------------------+\n",
      "|  region_dest|avg_arr_delay_flights|\n",
      "+-------------+---------------------+\n",
      "|       ALASKA|                 22.0|\n",
      "|MAINLAND-EAST|                 29.0|\n",
      "|MAINLAND-WEST|                 24.0|\n",
      "+-------------+---------------------+\n",
      "\n",
      "+-------------+---------------------+\n",
      "|region_origin|avg_dep_delay_flights|\n",
      "+-------------+---------------------+\n",
      "|MAINLAND-WEST|                 26.0|\n",
      "+-------------+---------------------+\n",
      "\n",
      "+-------------+---------------------+-------------+---------------------+\n",
      "|  region_dest|avg_arr_delay_flights|  region_dest|avg_dep_delay_flights|\n",
      "+-------------+---------------------+-------------+---------------------+\n",
      "|       ALASKA|                 22.0|         null|                 null|\n",
      "|MAINLAND-EAST|                 29.0|         null|                 null|\n",
      "|MAINLAND-WEST|                 24.0|MAINLAND-WEST|                 26.0|\n",
      "+-------------+---------------------+-------------+---------------------+\n",
      "\n"
     ]
    }
   ],
   "source": [
    "df_per_region_origin = (df_proc\n",
    "                        .filter(df_proc.dep_delay_flights > 0)\n",
    "                        .select('dep_delay_flights','region_airports_origin'))\n",
    "\n",
    "df_per_region_dest = (df_proc\n",
    "                      .filter(df_proc.arr_delay_flights > 0)\n",
    "                      .select('arr_delay_flights','region_airports_dest'))\n",
    "\n",
    "df_per_region_origin = df_per_region_origin.groupBy('region_airports_origin').avg()\n",
    "df_per_region_dest = df_per_region_dest.groupBy('region_airports_dest').avg()\n",
    "\n",
    "df_per_region_origin = df_per_region_origin.withColumn('avg(dep_delay_flights)', \n",
    "                                                       F.round(F.col('avg(dep_delay_flights)')))\n",
    "\n",
    "df_per_region_dest = df_per_region_dest.withColumn('avg(arr_delay_flights)', \n",
    "                                                       F.round(F.col('avg(arr_delay_flights)')))\n",
    "\n",
    "\n",
    "df_per_region_dest.select(\n",
    "    F.col('region_airports_dest').alias('region_dest'), \n",
    "    F.col('avg(arr_delay_flights)').alias('avg_arr_delay_flights')).show()\n",
    "df_per_region_origin.select(\n",
    "    F.col('region_airports_origin').alias('region_origin'), \n",
    "    F.col('avg(dep_delay_flights)').alias('avg_dep_delay_flights')).show()\n",
    "\n",
    "df_per_region = df_per_region_dest.join(df_per_region_origin,\n",
    "                                         df_per_region_origin.region_airports_origin == \n",
    "                                          df_per_region_dest.region_airports_dest,\n",
    "                                         \"left\")\n",
    "\n",
    "df_per_region.select(F.col('region_airports_dest').alias('region_dest'), \n",
    "                     F.col('avg(arr_delay_flights)').alias('avg_arr_delay_flights'),\n",
    "                     F.col('region_airports_origin').alias('region_dest'), \n",
    "                     F.col('avg(dep_delay_flights)').alias('avg_dep_delay_flights')).show()"
   ]
  },
  {
   "cell_type": "markdown",
   "id": "8a450c68",
   "metadata": {},
   "source": [
    "média de atraso geral de voo para cada região de destino"
   ]
  },
  {
   "cell_type": "code",
   "execution_count": 104,
   "id": "260c7654",
   "metadata": {},
   "outputs": [
    {
     "name": "stdout",
     "output_type": "stream",
     "text": [
      "+-------------+-------------+\n",
      "|  region_dest|avg_sum_delay|\n",
      "+-------------+-------------+\n",
      "|       ALASKA|         31.0|\n",
      "|MAINLAND-EAST|         40.0|\n",
      "|MAINLAND-WEST|         38.0|\n",
      "+-------------+-------------+\n",
      "\n"
     ]
    }
   ],
   "source": [
    "df_per_region = (df_proc\n",
    " .filter(df_proc.sum_delay > 0 )\n",
    " .groupBy('region_airports_dest')\n",
    " .avg('sum_delay')\n",
    ")\n",
    "\n",
    "df_per_region = df_per_region.withColumn('avg(sum_delay)', \n",
    "                                                       F.round(F.col('avg(sum_delay)')))\n",
    "df_per_region.select(F.col('region_airports_dest').alias('region_dest'), \n",
    "                     F.col('avg(sum_delay)').alias('avg_sum_delay')).show()"
   ]
  },
  {
   "cell_type": "markdown",
   "id": "90f9e43f",
   "metadata": {},
   "source": [
    "## Pergunta 6"
   ]
  },
  {
   "cell_type": "code",
   "execution_count": 140,
   "id": "243e54b6",
   "metadata": {},
   "outputs": [
    {
     "name": "stdout",
     "output_type": "stream",
     "text": [
      "+----+---------------------+\n",
      "|year|sum_arr_delay_flights|\n",
      "+----+---------------------+\n",
      "|2014|                91820|\n",
      "+----+---------------------+\n",
      "\n",
      "+----+---------------------+\n",
      "|year|sum_dep_delay_flights|\n",
      "+----+---------------------+\n",
      "|2014|                88314|\n",
      "+----+---------------------+\n",
      "\n"
     ]
    }
   ],
   "source": [
    "df_per_region_origin = (df_proc\n",
    "                        .filter(df_proc.dep_delay_flights > 0)\n",
    "                        .select('dep_delay_flights','dep_datetime_flights'))\n",
    "\n",
    "df_per_region_dest = (df_proc\n",
    "                      .filter(df_proc.arr_delay_flights > 0)\n",
    "                      .select('arr_delay_flights','dep_datetime_flights'))\n",
    "\n",
    "df_per_region_origin = (df_per_region_origin\n",
    "                        .groupBy(F.year('dep_datetime_flights'))\n",
    "                        .sum())\n",
    "\n",
    "df_per_region_dest = (df_per_region_dest\n",
    "                      .groupBy(F.year('dep_datetime_flights'))\n",
    "                      .sum())\n",
    "\n",
    "df_per_region_dest.select(\n",
    "                          F.col('year(dep_datetime_flights)').alias('year'), \n",
    "                          F.col('sum(arr_delay_flights)').alias('sum_arr_delay_flights')).show()\n",
    "\n",
    "df_per_region_origin.select(\n",
    "                           F.col('year(dep_datetime_flights)').alias('year'), \n",
    "                           F.col('sum(dep_delay_flights)').alias('sum_dep_delay_flights')).show()"
   ]
  },
  {
   "cell_type": "code",
   "execution_count": 108,
   "id": "bfede83d",
   "metadata": {},
   "outputs": [
    {
     "name": "stdout",
     "output_type": "stream",
     "text": [
      "+----+-------------+\n",
      "|year|sum_acc_delay|\n",
      "+----+-------------+\n",
      "|2014|       180134|\n",
      "+----+-------------+\n",
      "\n"
     ]
    }
   ],
   "source": [
    "(df_proc\n",
    " .filter(df_proc.sum_delay > 0 )\n",
    " .groupBy(F.year('dep_datetime_flights'))\n",
    " .sum('sum_delay')\n",
    " .select(F.col('year(dep_datetime_flights)').alias('year'),\n",
    "        F.col('sum(sum_delay)').alias('sum_acc_delay'))\n",
    " .show())\n"
   ]
  },
  {
   "cell_type": "markdown",
   "id": "dcbf8ab1",
   "metadata": {},
   "source": [
    "## Pergunta 7"
   ]
  },
  {
   "cell_type": "code",
   "execution_count": 113,
   "id": "71103334",
   "metadata": {
    "scrolled": false
   },
   "outputs": [
    {
     "name": "stdout",
     "output_type": "stream",
     "text": [
      "+-------------+----+---------------------+\n",
      "|region_origin|year|sum_dep_delay_flights|\n",
      "+-------------+----+---------------------+\n",
      "|MAINLAND-WEST|2014|                88314|\n",
      "+-------------+----+---------------------+\n",
      "\n",
      "+-------------+----+---------------------+\n",
      "|  region_dest|year|sum_arr_delay_flights|\n",
      "+-------------+----+---------------------+\n",
      "|MAINLAND-WEST|2014|                60242|\n",
      "|       ALASKA|2014|                 8640|\n",
      "|MAINLAND-EAST|2014|                22938|\n",
      "+-------------+----+---------------------+\n",
      "\n",
      "+-------------+----+---------------------+---------------------+\n",
      "|       region|year|sum_arr_delay_flights|sum_dep_delay_flights|\n",
      "+-------------+----+---------------------+---------------------+\n",
      "|       ALASKA|2014|                 8640|                 null|\n",
      "|MAINLAND-EAST|2014|                22938|                 null|\n",
      "|MAINLAND-WEST|2014|                60242|                88314|\n",
      "+-------------+----+---------------------+---------------------+\n",
      "\n"
     ]
    }
   ],
   "source": [
    "df_delay_acc_origin = (df_proc\n",
    "                       .filter((df_proc.dep_delay_flights > 0) )\n",
    "                       .groupBy(F.col('region_airports_origin'), F.year(F.col('dep_datetime_flights')))\n",
    "                       .sum('dep_delay_flights'))\n",
    "\n",
    "df_delay_acc_dest = (df_proc\n",
    "                     .filter((df_proc.arr_delay_flights > 0) )\n",
    "                     .groupBy(F.col('region_airports_dest'), F.year(F.col('dep_datetime_flights')))\n",
    "                     .sum('arr_delay_flights'))\n",
    "\n",
    "df_delay_acc_origin.select(F.col('region_airports_origin').alias('region_origin'),\n",
    "                          F.col('year(dep_datetime_flights)').alias('year'),\n",
    "                          F.col('sum(dep_delay_flights)').alias('sum_dep_delay_flights')).show()\n",
    "\n",
    "df_delay_acc_dest.select(F.col('region_airports_dest').alias('region_dest'),\n",
    "                        F.col('year(dep_datetime_flights)').alias('year'),\n",
    "                        F.col('sum(arr_delay_flights)').alias('sum_arr_delay_flights')).show()\n",
    "\n",
    "df_delay_acc_dest = (df_delay_acc_dest\n",
    "                .withColumnRenamed(\"region_airports_dest\",\"region\")\n",
    "               .withColumnRenamed(\"year(dep_datetime_flights)\",'year')\n",
    "               )\n",
    "\n",
    "df_delay_acc = df_delay_acc_dest.join(df_delay_acc_origin,\n",
    "                                     df_delay_acc_dest.region == \n",
    "                                      df_delay_acc_origin.region_airports_origin,\n",
    "                                     \"left\")\n",
    "\n",
    "df_delay_acc.select('region',\n",
    "                    'year',\n",
    "                    F.col('sum(arr_delay_flights)').alias('sum_arr_delay_flights'),\n",
    "                    F.col('sum(dep_delay_flights)').alias('sum_dep_delay_flights')).show()"
   ]
  },
  {
   "cell_type": "code",
   "execution_count": 114,
   "id": "0c3920f8",
   "metadata": {},
   "outputs": [
    {
     "name": "stdout",
     "output_type": "stream",
     "text": [
      "+-------------+----+-------------+\n",
      "|  region_dest|year|sum_acc_delay|\n",
      "+-------------+----+-------------+\n",
      "|MAINLAND-WEST|2014|       119503|\n",
      "|       ALASKA|2014|        16155|\n",
      "|MAINLAND-EAST|2014|        44476|\n",
      "+-------------+----+-------------+\n",
      "\n"
     ]
    }
   ],
   "source": [
    "(df_proc\n",
    " .filter(df_proc.sum_delay > 0 )\n",
    " .groupBy(F.col('region_airports_dest'), F.year(F.col('dep_datetime_flights')))\n",
    " .sum('sum_delay')\n",
    " .select(F.col('region_airports_dest').alias('region_dest'),\n",
    "        F.col('year(dep_datetime_flights)').alias('year'),\n",
    "        F.col('sum(sum_delay)').alias('sum_acc_delay'))\n",
    " .show())"
   ]
  },
  {
   "cell_type": "markdown",
   "id": "b3727e9c",
   "metadata": {},
   "source": [
    "## Pergunta 8\n"
   ]
  },
  {
   "cell_type": "code",
   "execution_count": 115,
   "id": "316d46f4",
   "metadata": {},
   "outputs": [
    {
     "name": "stdout",
     "output_type": "stream",
     "text": [
      "+--------------------+\n",
      "|avg_air_time_flights|\n",
      "+--------------------+\n",
      "|               153.0|\n",
      "+--------------------+\n",
      "\n"
     ]
    }
   ],
   "source": [
    "df_avg_air_time = df_proc.agg({\"air_time_flights\" : \"avg\"})\n",
    "df_avg_air_time = df_avg_air_time.withColumn('avg(air_time_flights)', \n",
    "                                             F.round(F.col('avg(air_time_flights)')))\n",
    "\n",
    "df_avg_air_time.select(F.col('avg(air_time_flights)').alias('avg_air_time_flights')).show()"
   ]
  },
  {
   "cell_type": "markdown",
   "id": "3b90db33",
   "metadata": {},
   "source": [
    "## Pergunta 9"
   ]
  },
  {
   "cell_type": "code",
   "execution_count": 116,
   "id": "68172454",
   "metadata": {
    "scrolled": true
   },
   "outputs": [
    {
     "name": "stdout",
     "output_type": "stream",
     "text": [
      "+--------------------+--------------------+\n",
      "|region_airports_dest|avg_air_time_flights|\n",
      "+--------------------+--------------------+\n",
      "|              ALASKA|               228.0|\n",
      "|       MAINLAND-EAST|               237.0|\n",
      "|       MAINLAND-WEST|               115.0|\n",
      "+--------------------+--------------------+\n",
      "\n"
     ]
    }
   ],
   "source": [
    "df_avg_air_time = df_proc.groupBy('region_airports_dest').avg('air_time_flights')\n",
    "df_avg_air_time = df_avg_air_time.withColumn('avg(air_time_flights)', \n",
    "                                             F.round(F.col('avg(air_time_flights)')))\n",
    "df_avg_air_time.select(\n",
    "    'region_airports_dest', \n",
    "    F.col('avg(air_time_flights)').alias('avg_air_time_flights')).show()"
   ]
  },
  {
   "cell_type": "markdown",
   "id": "5638e03b",
   "metadata": {},
   "source": [
    "## Pergunta 10"
   ]
  },
  {
   "cell_type": "code",
   "execution_count": 117,
   "id": "8c66ad7e",
   "metadata": {
    "scrolled": true
   },
   "outputs": [
    {
     "name": "stdout",
     "output_type": "stream",
     "text": [
      "+-------------------+-----------------+--------------------+\n",
      "|faa_airports_origin|faa_airports_dest|avg_air_time_flights|\n",
      "+-------------------+-----------------+--------------------+\n",
      "|                SEA|              RNO|                74.0|\n",
      "|                SEA|              DTW|               220.0|\n",
      "|                SEA|              CLE|               234.0|\n",
      "|                SEA|              LAX|               127.0|\n",
      "|                PDX|              SEA|                35.0|\n",
      "|                SEA|              BLI|                23.0|\n",
      "|                PDX|              IAH|               214.0|\n",
      "|                PDX|              PHX|               130.0|\n",
      "|                SEA|              SLC|                89.0|\n",
      "|                SEA|              SBA|               118.0|\n",
      "|                SEA|              BWI|               270.0|\n",
      "|                PDX|              IAD|               268.0|\n",
      "|                PDX|              SFO|                85.0|\n",
      "|                SEA|              KOA|               347.0|\n",
      "|                PDX|              MCI|               174.0|\n",
      "|                SEA|              SJC|               103.0|\n",
      "|                SEA|              ABQ|               143.0|\n",
      "|                SEA|              SAT|               208.0|\n",
      "|                PDX|              ONT|               112.0|\n",
      "|                SEA|              LAS|               118.0|\n",
      "+-------------------+-----------------+--------------------+\n",
      "only showing top 20 rows\n",
      "\n"
     ]
    }
   ],
   "source": [
    "df_avg_air_time = df_proc.groupBy('faa_airports_origin','faa_airports_dest').avg('air_time_flights')\n",
    "df_avg_air_time = df_avg_air_time.withColumn('avg(air_time_flights)', \n",
    "                                             F.round(F.col('avg(air_time_flights)')))\n",
    "df_avg_air_time.select('faa_airports_origin',\n",
    "                       'faa_airports_dest',\n",
    "                      F.col('avg(air_time_flights)').alias('avg_air_time_flights')).show()"
   ]
  },
  {
   "cell_type": "markdown",
   "id": "331a7388",
   "metadata": {},
   "source": [
    "## Pergunta 11"
   ]
  },
  {
   "cell_type": "code",
   "execution_count": 118,
   "id": "8a8c043e",
   "metadata": {
    "scrolled": true
   },
   "outputs": [
    {
     "name": "stdout",
     "output_type": "stream",
     "text": [
      "+----+--------------------+\n",
      "|year|sum_air_time_flights|\n",
      "+----+--------------------+\n",
      "|2014|             1528625|\n",
      "+----+--------------------+\n",
      "\n"
     ]
    }
   ],
   "source": [
    "(df_proc\n",
    " .groupBy(F.year(F.col('dep_datetime_flights')))\n",
    " .sum('air_time_flights')\n",
    " .select(F.col('year(dep_datetime_flights)').alias('year'), \n",
    "         F.col('sum(air_time_flights)').alias('sum_air_time_flights'))\n",
    " .show())"
   ]
  },
  {
   "cell_type": "markdown",
   "id": "5c4320bc",
   "metadata": {},
   "source": [
    "## Pergunta 12"
   ]
  },
  {
   "cell_type": "code",
   "execution_count": 119,
   "id": "82711393",
   "metadata": {
    "scrolled": true
   },
   "outputs": [
    {
     "name": "stdout",
     "output_type": "stream",
     "text": [
      "+--------------------+--------------------+\n",
      "|region_airports_dest|sum_air_time_flights|\n",
      "+--------------------+--------------------+\n",
      "|              ALASKA|              230602|\n",
      "|       MAINLAND-EAST|              508344|\n",
      "|       MAINLAND-WEST|              789679|\n",
      "+--------------------+--------------------+\n",
      "\n"
     ]
    }
   ],
   "source": [
    "(df_proc\n",
    " .groupBy('region_airports_dest')\n",
    " .sum('air_time_flights')\n",
    " .select('region_airports_dest', \n",
    "         F.col('sum(air_time_flights)').alias('sum_air_time_flights'))\n",
    " .show())"
   ]
  },
  {
   "cell_type": "markdown",
   "id": "c1a0b911",
   "metadata": {},
   "source": [
    "## Pergunta 13"
   ]
  },
  {
   "cell_type": "code",
   "execution_count": 120,
   "id": "728ecd1e",
   "metadata": {},
   "outputs": [
    {
     "name": "stdout",
     "output_type": "stream",
     "text": [
      "+--------------------+\n",
      "|avg_distance_flights|\n",
      "+--------------------+\n",
      "|           1208.1516|\n",
      "+--------------------+\n",
      "\n"
     ]
    }
   ],
   "source": [
    "(df_proc\n",
    " .agg({'distance_flights': 'avg'})\n",
    " .select(F.col('avg(distance_flights)').alias('avg_distance_flights'))\n",
    " .show())"
   ]
  },
  {
   "cell_type": "markdown",
   "id": "9348c0aa",
   "metadata": {},
   "source": [
    "## Pergunta 14"
   ]
  },
  {
   "cell_type": "code",
   "execution_count": 122,
   "id": "48fe2fe8",
   "metadata": {
    "scrolled": true
   },
   "outputs": [
    {
     "name": "stdout",
     "output_type": "stream",
     "text": [
      "+--------------------+--------------------+\n",
      "|region_airports_dest|avg_distance_flights|\n",
      "+--------------------+--------------------+\n",
      "|              ALASKA|   1741.653162055336|\n",
      "|       MAINLAND-EAST|  2042.3983208955224|\n",
      "|       MAINLAND-WEST|   867.9224137931035|\n",
      "+--------------------+--------------------+\n",
      "\n"
     ]
    }
   ],
   "source": [
    "(df_proc\n",
    " .groupBy('region_airports_dest')\n",
    " .avg('distance_flights')\n",
    " .select('region_airports_dest',\n",
    "         F.col('avg(distance_flights)').alias('avg_distance_flights'))\n",
    " .show())"
   ]
  },
  {
   "cell_type": "markdown",
   "id": "f2c176f4",
   "metadata": {},
   "source": [
    "## Pergunta 15"
   ]
  },
  {
   "cell_type": "code",
   "execution_count": 123,
   "id": "b9f6921e",
   "metadata": {
    "scrolled": true
   },
   "outputs": [
    {
     "name": "stdout",
     "output_type": "stream",
     "text": [
      "+-------------------+-----------------+--------------------+\n",
      "|faa_airports_origin|faa_airports_dest|avg_distance_flights|\n",
      "+-------------------+-----------------+--------------------+\n",
      "|                SEA|              RNO|               564.0|\n",
      "|                SEA|              DTW|              1927.0|\n",
      "|                SEA|              CLE|              2021.0|\n",
      "|                SEA|              LAX|               954.0|\n",
      "|                PDX|              SEA|               129.0|\n",
      "|                SEA|              BLI|                93.0|\n",
      "|                PDX|              IAH|              1825.0|\n",
      "|                PDX|              PHX|              1009.0|\n",
      "|                SEA|              SLC|               689.0|\n",
      "|                SEA|              SBA|               908.0|\n",
      "|                SEA|              BWI|              2335.0|\n",
      "|                PDX|              IAD|              2327.0|\n",
      "|                PDX|              SFO|               550.0|\n",
      "|                SEA|              KOA|              2688.0|\n",
      "|                PDX|              MCI|              1482.0|\n",
      "|                SEA|              SJC|               697.0|\n",
      "|                SEA|              ABQ|              1180.0|\n",
      "|                SEA|              SAT|              1774.0|\n",
      "|                PDX|              ONT|               838.0|\n",
      "|                SEA|              LAS|               867.0|\n",
      "+-------------------+-----------------+--------------------+\n",
      "only showing top 20 rows\n",
      "\n"
     ]
    }
   ],
   "source": [
    "(df_proc\n",
    " .groupBy('faa_airports_origin','faa_airports_dest')\n",
    " .avg('distance_flights')\n",
    " .select('faa_airports_origin',\n",
    "         'faa_airports_dest',\n",
    "        F.col('avg(distance_flights)').alias('avg_distance_flights'))\n",
    " .show())"
   ]
  },
  {
   "cell_type": "markdown",
   "id": "d6b140b4",
   "metadata": {},
   "source": [
    "## Pergunta 16\n",
    "\n"
   ]
  },
  {
   "cell_type": "code",
   "execution_count": 124,
   "id": "04fbac51",
   "metadata": {},
   "outputs": [
    {
     "name": "stdout",
     "output_type": "stream",
     "text": [
      "+----+--------------------+\n",
      "|year|sum_distance_flights|\n",
      "+----+--------------------+\n",
      "|2014|            12081516|\n",
      "+----+--------------------+\n",
      "\n"
     ]
    }
   ],
   "source": [
    "(df_proc\n",
    " .groupBy(F.year(F.col('dep_datetime_flights')))\n",
    " .sum('distance_flights')\n",
    " .select(F.col('year(dep_datetime_flights)').alias('year'), \n",
    "         F.col('sum(distance_flights)').alias('sum_distance_flights'))\n",
    " .show())"
   ]
  },
  {
   "cell_type": "markdown",
   "id": "9ffe6390",
   "metadata": {},
   "source": [
    "## Pergunta 17"
   ]
  },
  {
   "cell_type": "code",
   "execution_count": 125,
   "id": "bb50d32a",
   "metadata": {
    "scrolled": true
   },
   "outputs": [
    {
     "name": "stdout",
     "output_type": "stream",
     "text": [
      "+--------------------+--------------------+\n",
      "|region_airports_dest|sum_distance_flights|\n",
      "+--------------------+--------------------+\n",
      "|              ALASKA|             1762553|\n",
      "|       MAINLAND-EAST|             4378902|\n",
      "|       MAINLAND-WEST|             5940061|\n",
      "+--------------------+--------------------+\n",
      "\n"
     ]
    }
   ],
   "source": [
    "(df_proc\n",
    " .groupBy('region_airports_dest')\n",
    " .sum('distance_flights')\n",
    " .select('region_airports_dest', F.col('sum(distance_flights)').alias('sum_distance_flights'))\n",
    " .show())\n"
   ]
  },
  {
   "cell_type": "markdown",
   "id": "6cf54905",
   "metadata": {},
   "source": [
    "## Pergunta 18"
   ]
  },
  {
   "cell_type": "code",
   "execution_count": 126,
   "id": "6f837add",
   "metadata": {
    "scrolled": true
   },
   "outputs": [
    {
     "name": "stdout",
     "output_type": "stream",
     "text": [
      "+-------------------+-----------------+----------------+\n",
      "|faa_airports_origin|faa_airports_dest|avg_seats_planes|\n",
      "+-------------------+-----------------+----------------+\n",
      "|                SEA|              RNO|             142|\n",
      "|                SEA|              DTW|             213|\n",
      "|                SEA|              CLE|             182|\n",
      "|                SEA|              LAX|             155|\n",
      "|                PDX|              SEA|              65|\n",
      "|                SEA|              BLI|             164|\n",
      "|                PDX|              IAH|             183|\n",
      "|                PDX|              PHX|             196|\n",
      "|                SEA|              SLC|             166|\n",
      "|                SEA|              SBA|              80|\n",
      "|                SEA|              BWI|             152|\n",
      "|                PDX|              IAD|             188|\n",
      "|                PDX|              SFO|             139|\n",
      "|                SEA|              KOA|             171|\n",
      "|                PDX|              MCI|             147|\n",
      "|                SEA|              SJC|             137|\n",
      "|                SEA|              ABQ|             145|\n",
      "|                SEA|              SAT|             158|\n",
      "|                PDX|              ONT|              80|\n",
      "|                SEA|              LAS|             147|\n",
      "+-------------------+-----------------+----------------+\n",
      "only showing top 20 rows\n",
      "\n"
     ]
    }
   ],
   "source": [
    "df_seats_avg = df_proc.groupBy('faa_airports_origin','faa_airports_dest').avg('seats_planes')\n",
    "df_seats_avg = df_seats_avg.withColumn('avg(seats_planes)', F.ceil(F.col('avg(seats_planes)')))\n",
    "df_seats_avg.select('faa_airports_origin',\n",
    "                   'faa_airports_dest',\n",
    "                   F.col('avg(seats_planes)').alias('avg_seats_planes')).show()"
   ]
  },
  {
   "cell_type": "markdown",
   "id": "afdaf03d",
   "metadata": {},
   "source": [
    "## Pergunta 19"
   ]
  },
  {
   "cell_type": "code",
   "execution_count": 127,
   "id": "fc9c2aa7",
   "metadata": {
    "scrolled": true
   },
   "outputs": [
    {
     "name": "stdout",
     "output_type": "stream",
     "text": [
      "+----+----------------+\n",
      "|year|sum_seats_planes|\n",
      "+----+----------------+\n",
      "|2014|         1509544|\n",
      "+----+----------------+\n",
      "\n"
     ]
    }
   ],
   "source": [
    "(df_proc\n",
    " .groupBy(F.year(F.col('dep_datetime_flights')))\n",
    " .sum('seats_planes')\n",
    " .select(F.col('year(dep_datetime_flights)').alias('year'), \n",
    "         F.col('sum(seats_planes)').alias('sum_seats_planes'))\n",
    " .show())"
   ]
  },
  {
   "cell_type": "markdown",
   "id": "0ac50765",
   "metadata": {},
   "source": [
    "## Pergunta 20"
   ]
  },
  {
   "cell_type": "code",
   "execution_count": 141,
   "id": "5e2e119d",
   "metadata": {
    "scrolled": true
   },
   "outputs": [
    {
     "name": "stdout",
     "output_type": "stream",
     "text": [
      "+-----------------+-----+\n",
      "|faa_airports_dest|count|\n",
      "+-----------------+-----+\n",
      "|              SFO|  787|\n",
      "+-----------------+-----+\n",
      "only showing top 1 row\n",
      "\n"
     ]
    }
   ],
   "source": [
    "df_proc.groupBy('faa_airports_dest').count().orderBy(F.col('count').desc()).show(1)"
   ]
  },
  {
   "cell_type": "markdown",
   "id": "74334d64",
   "metadata": {},
   "source": [
    "## Pergunta 21"
   ]
  },
  {
   "cell_type": "code",
   "execution_count": 128,
   "id": "a7c28e32",
   "metadata": {
    "scrolled": true
   },
   "outputs": [
    {
     "name": "stdout",
     "output_type": "stream",
     "text": [
      "+-----------------+----------------+\n",
      "|faa_airports_dest|sum_seats_planes|\n",
      "+-----------------+----------------+\n",
      "|              SFO|          119635|\n",
      "|              PHX|           96317|\n",
      "|              LAX|           91406|\n",
      "|              DEN|           88218|\n",
      "|              LAS|           76354|\n",
      "|              ANC|           74715|\n",
      "|              SLC|           64920|\n",
      "|              ATL|           58940|\n",
      "|              SJC|           52133|\n",
      "|              OAK|           48773|\n",
      "|              ORD|           48466|\n",
      "|              MSP|           48461|\n",
      "|              SAN|           42350|\n",
      "|              SMF|           41681|\n",
      "|              IAH|           41228|\n",
      "|              HNL|           37689|\n",
      "|              SNA|           29448|\n",
      "|              JFK|           28723|\n",
      "|              EWR|           26771|\n",
      "|              DTW|           25884|\n",
      "+-----------------+----------------+\n",
      "only showing top 20 rows\n",
      "\n"
     ]
    }
   ],
   "source": [
    "(df_proc\n",
    " .groupBy('faa_airports_dest')\n",
    " .sum('seats_planes')\n",
    " .orderBy(F.col('sum(seats_planes)').desc())\n",
    " .select( 'faa_airports_dest', F.col('sum(seats_planes)').alias('sum_seats_planes'))\n",
    " .show())\n",
    "\n"
   ]
  },
  {
   "cell_type": "markdown",
   "id": "8556ab1c",
   "metadata": {},
   "source": [
    "## Pergunta 22"
   ]
  },
  {
   "cell_type": "code",
   "execution_count": 27,
   "id": "8ea9d1b6",
   "metadata": {},
   "outputs": [
    {
     "name": "stdout",
     "output_type": "stream",
     "text": [
      "+-------------------+-----------------+----------------+\n",
      "|faa_airports_origin|faa_airports_dest|distance_flights|\n",
      "+-------------------+-----------------+----------------+\n",
      "|                PDX|              LIH|            2631|\n",
      "|                PDX|              LIH|            2631|\n",
      "|                PDX|              LIH|            2631|\n",
      "|                PDX|              LIH|            2631|\n",
      "|                PDX|              LIH|            2631|\n",
      "|                PDX|              LIH|            2631|\n",
      "|                PDX|              LIH|            2631|\n",
      "|                PDX|              KOA|            2607|\n",
      "|                PDX|              KOA|            2607|\n",
      "|                PDX|              KOA|            2607|\n",
      "|                PDX|              KOA|            2607|\n",
      "|                PDX|              KOA|            2607|\n",
      "|                PDX|              KOA|            2607|\n",
      "|                PDX|              KOA|            2607|\n",
      "|                PDX|              KOA|            2607|\n",
      "|                PDX|              KOA|            2607|\n",
      "|                PDX|              KOA|            2607|\n",
      "|                PDX|              KOA|            2607|\n",
      "|                PDX|              KOA|            2607|\n",
      "|                PDX|              HNL|            2603|\n",
      "+-------------------+-----------------+----------------+\n",
      "only showing top 20 rows\n",
      "\n"
     ]
    }
   ],
   "source": [
    "(df_proc.select('faa_airports_origin','faa_airports_dest','distance_flights')\n",
    ".filter((F.col('faa_airports_origin') == 'PDX')| (F.col('faa_airports_dest') == 'PDX'))\n",
    ".orderBy(F.col('distance_flights').desc()).show())"
   ]
  },
  {
   "cell_type": "markdown",
   "id": "8db266f2",
   "metadata": {},
   "source": [
    "## Pergunta 23"
   ]
  },
  {
   "cell_type": "code",
   "execution_count": 48,
   "id": "028c98e7",
   "metadata": {},
   "outputs": [
    {
     "name": "stdout",
     "output_type": "stream",
     "text": [
      "+-----+-----------------+-----+\n",
      "|month|faa_airports_dest|count|\n",
      "+-----+-----------------+-----+\n",
      "|    5|              LAX|   77|\n",
      "+-----+-----------------+-----+\n",
      "only showing top 1 row\n",
      "\n"
     ]
    }
   ],
   "source": [
    "(df_proc.groupBy(F.month(F.col('dep_datetime_flights')).alias('month'), F.col('faa_airports_dest'))\n",
    " .count().orderBy(F.col('count').desc()).show(1))"
   ]
  },
  {
   "cell_type": "code",
   "execution_count": 130,
   "id": "b9ae6b0d",
   "metadata": {
    "scrolled": true
   },
   "outputs": [
    {
     "name": "stdout",
     "output_type": "stream",
     "text": [
      "+-----+-----------------+-----+\n",
      "|month|faa_airports_dest|count|\n",
      "+-----+-----------------+-----+\n",
      "|    1|              PHX|   52|\n",
      "|    2|              LAX|   52|\n",
      "|    3|              SFO|   62|\n",
      "|    4|              SFO|   70|\n",
      "|    5|              LAX|   77|\n",
      "|    6|              ANC|   61|\n",
      "|    7|              SFO|   71|\n",
      "|    8|              SFO|   75|\n",
      "|    9|              SFO|   69|\n",
      "|   10|              SFO|   66|\n",
      "|   11|              SFO|   68|\n",
      "|   12|              SFO|   76|\n",
      "+-----+-----------------+-----+\n",
      "\n"
     ]
    }
   ],
   "source": [
    "df_month_dest = (df_proc\n",
    "                 .groupBy(F.month(F.col('dep_datetime_flights')).alias('month'), F.col('faa_airports_dest'))\n",
    "                 .count()\n",
    "                 .orderBy(F.col('count').desc()))\n",
    "\n",
    "df_month = (df_month_dest\n",
    " .groupBy('month')\n",
    " .max('count')\n",
    " .orderBy(F.col('month')))\n",
    "\n",
    "df_month.alias('a').join(df_month_dest, \n",
    "                        (\n",
    "                            df_month.month == df_month_dest.month) &\n",
    "                            (F.col('max(count)') == F.col('count')\n",
    "                        ),\n",
    "                       \"left\").select(\"a.month\",'faa_airports_dest','count').show()"
   ]
  },
  {
   "cell_type": "code",
   "execution_count": 131,
   "id": "af34f394",
   "metadata": {},
   "outputs": [
    {
     "name": "stdout",
     "output_type": "stream",
     "text": [
      "+-----------------+---------+\n",
      "|faa_airports_dest|avg_count|\n",
      "+-----------------+---------+\n",
      "|              SFO|       66|\n",
      "+-----------------+---------+\n",
      "only showing top 1 row\n",
      "\n"
     ]
    }
   ],
   "source": [
    " df_month_dest = (df_month_dest\n",
    "                  .groupBy('faa_airports_dest')\n",
    "                  .avg('count')\n",
    "                  .orderBy(F.col('avg(count)').desc()))\n",
    "\n",
    "df_month_dest = df_month_dest.withColumn('avg(count)', F.ceil(F.col('avg(count)')))\n",
    "df_month_dest.select('faa_airports_dest',F.col('avg(count)').alias('avg_count')).show(1)"
   ]
  },
  {
   "cell_type": "markdown",
   "id": "ffe68f52",
   "metadata": {},
   "source": [
    "## Pergunta 24"
   ]
  },
  {
   "cell_type": "code",
   "execution_count": 29,
   "id": "78d64aff",
   "metadata": {
    "scrolled": true
   },
   "outputs": [
    {
     "name": "stdout",
     "output_type": "stream",
     "text": [
      "+------------+-----+\n",
      "|model_planes|count|\n",
      "+------------+-----+\n",
      "|     737-890| 1463|\n",
      "|     737-7H4|  851|\n",
      "|   737-990ER|  664|\n",
      "|    A320-232|  612|\n",
      "|     737-790|  581|\n",
      "|        null|  552|\n",
      "| CL-600-2C10|  551|\n",
      "|     737-490|  472|\n",
      "|     737-990|  335|\n",
      "|     737-3H4|  279|\n",
      "|     737-832|  273|\n",
      "|   737-924ER|  265|\n",
      "|     757-232|  259|\n",
      "|    A320-214|  258|\n",
      "|   EMB-120ER|  250|\n",
      "| CL-600-2D24|  221|\n",
      "|     737-4Q8|  183|\n",
      "|     737-824|  180|\n",
      "|   737-932ER|  158|\n",
      "|     737-8H4|  142|\n",
      "+------------+-----+\n",
      "only showing top 20 rows\n",
      "\n"
     ]
    }
   ],
   "source": [
    "df_proc.groupBy('model_planes').count().orderBy(F.col('count').desc()).show()"
   ]
  },
  {
   "cell_type": "markdown",
   "id": "5e25ec6f",
   "metadata": {},
   "source": [
    "## Pergunta 25"
   ]
  },
  {
   "cell_type": "code",
   "execution_count": 30,
   "id": "a572d685",
   "metadata": {
    "scrolled": true
   },
   "outputs": [
    {
     "name": "stdout",
     "output_type": "stream",
     "text": [
      "+------------+-----------------+-----+\n",
      "|model_planes|faa_airports_dest|count|\n",
      "+------------+-----------------+-----+\n",
      "|     737-7H4|              OAK|  141|\n",
      "|     737-890|              ANC|  138|\n",
      "|     737-790|              SNA|  122|\n",
      "|     737-7H4|              SMF|  114|\n",
      "|     737-890|              LAX|  110|\n",
      "|     737-890|              LAS|  108|\n",
      "|     757-232|              SLC|  104|\n",
      "|     737-890|              SAN|  102|\n",
      "|    A320-232|              LGB|  102|\n",
      "|    A320-214|              DEN|  102|\n",
      "|     737-7H4|              LAS|   97|\n",
      "|     737-7H4|              DEN|   93|\n",
      "|    A320-232|              PHX|   91|\n",
      "|     737-7H4|              SJC|   89|\n",
      "|     737-490|              SFO|   87|\n",
      "|   EMB-120ER|              PDX|   87|\n",
      "|    A319-131|              SFO|   86|\n",
      "|    A320-232|              SFO|   85|\n",
      "|     737-7H4|              PHX|   80|\n",
      "|   737-932ER|              ATL|   80|\n",
      "+------------+-----------------+-----+\n",
      "only showing top 20 rows\n",
      "\n"
     ]
    }
   ],
   "source": [
    "(df_proc\n",
    " .filter(F.col('model_planes').isNotNull())\n",
    " .groupBy('model_planes','faa_airports_dest')\n",
    " .count().orderBy(F.col('count').desc()).show())"
   ]
  },
  {
   "cell_type": "markdown",
   "id": "7255a00c",
   "metadata": {},
   "source": [
    "## Pergunta 26"
   ]
  },
  {
   "cell_type": "code",
   "execution_count": 132,
   "id": "6e41f659",
   "metadata": {
    "scrolled": true
   },
   "outputs": [
    {
     "name": "stdout",
     "output_type": "stream",
     "text": [
      "+---------------------+------------------+\n",
      "|haul_duration_flights|avg_engines_planes|\n",
      "+---------------------+------------------+\n",
      "|            LONG-HAUL|                 2|\n",
      "|          MEDIUM-HAUL|                 2|\n",
      "|           SHORT-HAUL|                 2|\n",
      "+---------------------+------------------+\n",
      "\n"
     ]
    }
   ],
   "source": [
    "df_haul_duration = df_proc.groupBy('haul_duration_flights').avg('engines_planes')\n",
    "df_haul_duration = df_haul_duration.withColumn('avg(engines_planes)',\n",
    "                                               F.ceil(F.col('avg(engines_planes)')))\n",
    "(df_haul_duration\n",
    " .select('haul_duration_flights', F.col('avg(engines_planes)').alias('avg_engines_planes'))\n",
    " .show())"
   ]
  },
  {
   "cell_type": "markdown",
   "id": "945be52d",
   "metadata": {},
   "source": [
    "## Pergunta 27"
   ]
  },
  {
   "cell_type": "code",
   "execution_count": 32,
   "id": "d70e3829",
   "metadata": {
    "scrolled": true
   },
   "outputs": [
    {
     "name": "stdout",
     "output_type": "stream",
     "text": [
      "+------------------+-----+\n",
      "|dep_season_flights|count|\n",
      "+------------------+-----+\n",
      "|            SUMMER| 2918|\n",
      "|            SPRING| 2560|\n",
      "|              FALL| 2373|\n",
      "|            WINTER| 2149|\n",
      "+------------------+-----+\n",
      "\n"
     ]
    }
   ],
   "source": [
    "df_proc.groupBy('dep_season_flights').count().orderBy(F.col('count').desc()).show()"
   ]
  },
  {
   "cell_type": "markdown",
   "id": "75641c20",
   "metadata": {},
   "source": [
    "## Pergunta 28"
   ]
  },
  {
   "cell_type": "code",
   "execution_count": 158,
   "id": "c9b43371",
   "metadata": {
    "scrolled": true
   },
   "outputs": [
    {
     "name": "stdout",
     "output_type": "stream",
     "text": [
      "+------------------+-----------------+----------+\n",
      "|dep_season_flights|faa_airports_dest|max(count)|\n",
      "+------------------+-----------------+----------+\n",
      "|              FALL|              ABQ|        19|\n",
      "|            SUMMER|              ANC|       145|\n",
      "|            SUMMER|              ATL|        86|\n",
      "|            SPRING|              AUS|         9|\n",
      "|            SUMMER|              BLI|         4|\n",
      "|            SUMMER|              BNA|         5|\n",
      "|            SPRING|              BOI|         7|\n",
      "|            SUMMER|              BOS|        50|\n",
      "|            WINTER|              BUR|        44|\n",
      "|            SUMMER|              BWI|        14|\n",
      "|            SUMMER|              CLE|         2|\n",
      "|            SPRING|              CLT|        28|\n",
      "|              FALL|              COS|         8|\n",
      "|            SPRING|              CVG|         3|\n",
      "|            SUMMER|              DCA|        20|\n",
      "|            SUMMER|              DEN|       172|\n",
      "|            SUMMER|              DFW|       122|\n",
      "|            SUMMER|              DTW|        43|\n",
      "|            SPRING|              EUG|        20|\n",
      "|            SUMMER|              EWR|        46|\n",
      "+------------------+-----------------+----------+\n",
      "only showing top 20 rows\n",
      "\n"
     ]
    }
   ],
   "source": [
    "df_season_dest = (df_proc\n",
    " .groupBy('dep_season_flights','faa_airports_dest')\n",
    " .count()\n",
    " .orderBy(F.col('count').desc()))\n",
    "\n",
    "df_dest = (df_season_dest\n",
    "          .groupBy('faa_airports_dest').max('count'))\n",
    "\n",
    "(df_dest.alias('d').join(df_season_dest,\n",
    "                       (F.col('count') == F.col('max(count)')) &\n",
    "                       (df_dest.faa_airports_dest == df_season_dest.faa_airports_dest),\n",
    "                       \"left\")\n",
    " .select('dep_season_flights','d.faa_airports_dest','max(count)')\n",
    " .orderBy('d.faa_airports_dest')\n",
    " .show())\n"
   ]
  },
  {
   "cell_type": "markdown",
   "id": "62e4fad4",
   "metadata": {},
   "source": [
    "## Pergunta 29"
   ]
  },
  {
   "cell_type": "code",
   "execution_count": 34,
   "id": "fb330a74",
   "metadata": {
    "scrolled": true
   },
   "outputs": [
    {
     "name": "stdout",
     "output_type": "stream",
     "text": [
      "+--------------------------+-----+\n",
      "|dep_delay_category_flights|count|\n",
      "+--------------------------+-----+\n",
      "|               ANTECIPATED| 5894|\n",
      "|                     MINOR| 3065|\n",
      "|                    INTIME|  646|\n",
      "|                     MAJOR|  395|\n",
      "+--------------------------+-----+\n",
      "\n"
     ]
    }
   ],
   "source": [
    "df_proc.groupBy('dep_delay_category_flights').count().orderBy(F.col('count').desc()).show()"
   ]
  },
  {
   "cell_type": "markdown",
   "id": "b91e6348",
   "metadata": {},
   "source": [
    "## Pergunta 30"
   ]
  },
  {
   "cell_type": "code",
   "execution_count": 159,
   "id": "4569a514",
   "metadata": {
    "scrolled": true
   },
   "outputs": [
    {
     "name": "stdout",
     "output_type": "stream",
     "text": [
      "+-------------------+-----------------+--------------------------+-----+\n",
      "|faa_airports_origin|faa_airports_dest|dep_delay_category_flights|count|\n",
      "+-------------------+-----------------+--------------------------+-----+\n",
      "|                SEA|              LAX|               ANTECIPATED|  293|\n",
      "|                SEA|              SFO|               ANTECIPATED|  245|\n",
      "|                SEA|              LAS|               ANTECIPATED|  228|\n",
      "|                SEA|              PHX|               ANTECIPATED|  195|\n",
      "|                SEA|              ANC|               ANTECIPATED|  192|\n",
      "|                PDX|              SFO|               ANTECIPATED|  174|\n",
      "|                SEA|              DEN|               ANTECIPATED|  169|\n",
      "|                SEA|              ORD|               ANTECIPATED|  167|\n",
      "|                SEA|              SFO|                     MINOR|  159|\n",
      "|                SEA|              ANC|                     MINOR|  145|\n",
      "|                SEA|              DEN|                     MINOR|  145|\n",
      "|                PDX|              PHX|               ANTECIPATED|  136|\n",
      "|                PDX|              DEN|               ANTECIPATED|  135|\n",
      "|                SEA|              SJC|               ANTECIPATED|  135|\n",
      "|                SEA|              DFW|               ANTECIPATED|  134|\n",
      "|                SEA|              SLC|               ANTECIPATED|  126|\n",
      "|                PDX|              LAX|               ANTECIPATED|  126|\n",
      "|                SEA|              PDX|               ANTECIPATED|  126|\n",
      "|                PDX|              SLC|               ANTECIPATED|  122|\n",
      "|                SEA|              LAX|                     MINOR|  118|\n",
      "+-------------------+-----------------+--------------------------+-----+\n",
      "only showing top 20 rows\n",
      "\n",
      "+-------------------+-----------------+\n",
      "|faa_airports_origin|faa_airports_dest|\n",
      "+-------------------+-----------------+\n",
      "|                SEA|              LAX|\n",
      "+-------------------+-----------------+\n",
      "only showing top 1 row\n",
      "\n"
     ]
    }
   ],
   "source": [
    "(df_proc\n",
    " .groupBy('faa_airports_origin','faa_airports_dest','dep_delay_category_flights')\n",
    " .count()\n",
    " .orderBy(F.col('count').desc())\n",
    " .show())\n",
    "\n"
   ]
  }
 ],
 "metadata": {
  "kernelspec": {
   "display_name": "Python 3 (ipykernel)",
   "language": "python",
   "name": "python3"
  },
  "language_info": {
   "codemirror_mode": {
    "name": "ipython",
    "version": 3
   },
   "file_extension": ".py",
   "mimetype": "text/x-python",
   "name": "python",
   "nbconvert_exporter": "python",
   "pygments_lexer": "ipython3",
   "version": "3.9.7"
  }
 },
 "nbformat": 4,
 "nbformat_minor": 5
}
